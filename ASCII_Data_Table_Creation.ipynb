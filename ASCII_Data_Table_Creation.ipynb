{
 "cells": [
  {
   "cell_type": "code",
   "execution_count": 62,
   "metadata": {},
   "outputs": [],
   "source": [
    "import matplotlib as mpl\n",
    "import astropy as ap\n",
    "from astropy.io import fits, ascii\n",
    "import matplotlib.pyplot as plt\n",
    "from astropy.visualization import astropy_mpl_style\n",
    "plt.style.use(astropy_mpl_style)\n",
    "from astropy.table import Table\n",
    "import numpy as np\n"
   ]
  },
  {
   "cell_type": "code",
   "execution_count": 63,
   "metadata": {},
   "outputs": [],
   "source": [
    "maps_file = \"/Users/asherworley/Downloads/maps_catalog.fits\"\n",
    "\n",
    "maps = fits.open(maps_file)"
   ]
  },
  {
   "cell_type": "code",
   "execution_count": 64,
   "metadata": {},
   "outputs": [],
   "source": [
    "maps_table = Table(maps[1].data)"
   ]
  },
  {
   "cell_type": "code",
   "execution_count": 65,
   "metadata": {},
   "outputs": [
    {
     "data": {
      "text/html": [
       "&lt;Table length=4161&gt;\n",
       "<table id=\"table4767866576\" class=\"table-striped table-bordered table-condensed\">\n",
       "<thead><tr><th>ID</th><th>RA</th><th>DEC</th><th>LON</th><th>LAT</th><th>MLON</th><th>MLAT</th><th>PA</th><th>RAD</th><th>D</th><th>DERR</th><th>M</th><th>MERR</th><th>T</th><th>TERR</th><th>M0</th><th>MT0</th><th>MD0</th><th>AM</th><th>EBV</th><th>CHI</th><th>SHARP</th><th>VHELIO</th><th>VLSR</th><th>VGSR</th><th>VERR</th><th>STDDEV</th><th>Q</th><th>SET</th><th>TDR</th><th>FILE</th><th>SNR</th><th>PEAK</th><th>NSTD</th><th>TEFF</th><th>LOGG</th><th>FEH</th><th>ALPHAFE</th><th>LOGMICRO</th><th>TEFF_ERR</th><th>LOGG_ERR</th><th>FEH_ERR</th><th>ALPHAFE_ERR</th><th>LOGMICRO_ERR</th><th>LOGCHI2</th><th>RV</th><th>SNAME</th><th>SID</th><th>FIELD</th><th>HJD</th></tr></thead>\n",
       "<thead><tr><th>str19</th><th>float64</th><th>float64</th><th>float64</th><th>float64</th><th>float32</th><th>float32</th><th>float32</th><th>float32</th><th>float32</th><th>float32</th><th>float32</th><th>float32</th><th>float32</th><th>float32</th><th>float32</th><th>float32</th><th>float32</th><th>float32</th><th>float32</th><th>float32</th><th>float32</th><th>float32</th><th>float32</th><th>float32</th><th>float32</th><th>float32</th><th>float32</th><th>float32</th><th>float32</th><th>str24</th><th>float32</th><th>float32</th><th>int32</th><th>float32</th><th>float32</th><th>float32</th><th>float32</th><th>float32</th><th>float32</th><th>float32</th><th>float32</th><th>float32</th><th>float32</th><th>float32</th><th>float32</th><th>str16</th><th>str19</th><th>str8</th><th>float64</th></tr></thead>\n",
       "<tr><td>NEa1_2.10479</td><td>87.62960667</td><td>-62.256113333</td><td>271.3949890136719</td><td>-30.823999404907227</td><td>2.61515</td><td>9.915174</td><td>19.636232</td><td>7.949376</td><td>18.79676</td><td>0.084</td><td>18.86764</td><td>0.044</td><td>18.85384</td><td>0.135</td><td>18.703</td><td>-0.063</td><td>0.068</td><td>0.16464001</td><td>0.048</td><td>999999.0</td><td>0.009</td><td>-557.5372</td><td>-569.8668</td><td>-758.7348</td><td>24.224688</td><td>4426.449</td><td>999999.0</td><td>1.0</td><td>2.84</td><td>NEa1_2.10479.fits</td><td>8.2</td><td>0.07</td><td>48</td><td>3604.694</td><td>3.197</td><td>-4.922</td><td>-0.19</td><td>-0.274</td><td>709.953</td><td>2.952</td><td>3.414</td><td>30.019</td><td>22.553</td><td>-2.738</td><td>-557.54</td><td>NEa1_2.10479</td><td>NEa1_2.10479</td><td></td><td>2453074.50215658</td></tr>\n",
       "<tr><td>NEa1_2.1102</td><td>87.209736255</td><td>-62.197510278</td><td>271.32598876953125</td><td>-31.018999099731445</td><td>2.420383</td><td>9.983928</td><td>18.162144</td><td>7.9594665</td><td>16.740501</td><td>0.077</td><td>16.7365</td><td>0.021</td><td>15.7155</td><td>0.025</td><td>16.565</td><td>0.941</td><td>-0.007</td><td>0.17150001</td><td>0.05</td><td>999999.0</td><td>-0.067</td><td>92.45354</td><td>80.115654</td><td>-108.373085</td><td>16.851955</td><td>57.988846</td><td>999999.0</td><td>1.0</td><td>4.52</td><td>NEa1_2.1102.fits</td><td>7.919</td><td>0.09</td><td>35</td><td>7106.522</td><td>5.0</td><td>1.0</td><td>0.999</td><td>-0.256</td><td>239.504</td><td>0.422</td><td>0.481</td><td>3.508</td><td>1.711</td><td>-3.126</td><td>92.454</td><td>NEa1_2.1102</td><td>NEa1_2.1102</td><td></td><td>2453074.50213802</td></tr>\n",
       "<tr><td>NEa1_2.11414</td><td>87.67963959</td><td>-62.128181944</td><td>271.2460021972656</td><td>-30.798999786376953</td><td>2.6469185</td><td>10.041741</td><td>19.571278</td><td>8.079103</td><td>17.49839</td><td>0.078</td><td>17.45821</td><td>0.023</td><td>15.76501</td><td>0.025</td><td>17.297</td><td>1.618</td><td>-0.044</td><td>0.16121</td><td>0.047</td><td>999999.0</td><td>0.258</td><td>311.4647</td><td>299.1142</td><td>110.185745</td><td>3.649384</td><td>4.5321827</td><td>999999.0</td><td>1.0</td><td>24.49</td><td>NEa1_2.11414.fits</td><td>21.879</td><td>0.38</td><td>39</td><td>4257.56</td><td>1.633</td><td>-0.564</td><td>0.088</td><td>0.042</td><td>58.991</td><td>0.193</td><td>0.085</td><td>0.059</td><td>0.055</td><td>-5.417</td><td>311.46</td><td>NEa1_2.11414</td><td>NEa1_2.11414</td><td></td><td>2453074.50216071</td></tr>\n",
       "<tr><td>NEa1_2.12134</td><td>87.711117495</td><td>-62.21084</td><td>271.3420104980469</td><td>-30.78499984741211</td><td>2.656996</td><td>9.958678</td><td>19.819876</td><td>8.002689</td><td>17.60639</td><td>0.078</td><td>17.599209</td><td>0.023</td><td>15.98801</td><td>0.025</td><td>17.438</td><td>1.537</td><td>-0.01</td><td>0.16121</td><td>0.047</td><td>999999.0</td><td>0.049</td><td>327.13184</td><td>314.79456</td><td>125.84575</td><td>3.858266</td><td>4.580862</td><td>999999.0</td><td>1.0</td><td>23.11</td><td>NEa1_2.12134.fits</td><td>23.54</td><td>0.41</td><td>38</td><td>4451.168</td><td>1.779</td><td>-0.895</td><td>0.122</td><td>0.184</td><td>80.506</td><td>0.213</td><td>0.089</td><td>0.086</td><td>0.054</td><td>-5.484</td><td>327.13</td><td>NEa1_2.12134</td><td>NEa1_2.12134</td><td></td><td>2453074.50216099</td></tr>\n",
       "<tr><td>NEa1_2.12568</td><td>87.73164417</td><td>-62.262825278</td><td>271.40301513671875</td><td>-30.775999069213867</td><td>2.6634655</td><td>9.905883</td><td>19.980747</td><td>7.9547806</td><td>17.38002</td><td>0.078</td><td>17.35878</td><td>0.022</td><td>15.44518</td><td>0.024</td><td>17.201</td><td>1.84</td><td>-0.024</td><td>0.15778</td><td>0.046</td><td>999999.0</td><td>-0.023</td><td>313.30737</td><td>300.97852</td><td>112.01684</td><td>3.10076</td><td>4.901201</td><td>999999.0</td><td>1.0</td><td>29.0</td><td>NEa1_2.12568.fits</td><td>27.947</td><td>0.45</td><td>39</td><td>4138.388</td><td>1.725</td><td>-1.078</td><td>0.072</td><td>0.308</td><td>42.396</td><td>0.137</td><td>0.061</td><td>0.057</td><td>0.031</td><td>-5.494</td><td>313.31</td><td>NEa1_2.12568</td><td>NEa1_2.12568</td><td></td><td>2453074.50216119</td></tr>\n",
       "<tr><td>NEa1_2.12813</td><td>87.743740005</td><td>-62.197411111</td><td>271.3269958496094</td><td>-30.770000457763672</td><td>2.6728563</td><td>9.9708185</td><td>19.901382</td><td>8.019505</td><td>18.90639</td><td>0.086</td><td>18.96221</td><td>0.048</td><td>19.04701</td><td>0.168</td><td>18.801</td><td>-0.16</td><td>0.053</td><td>0.16121</td><td>0.047</td><td>999999.0</td><td>-0.016</td><td>-11897.378</td><td>-11909.718</td><td>-12098.697</td><td>17.958069</td><td>9.762134</td><td>999999.0</td><td>1.0</td><td>4.18</td><td>NEa1_2.12813.fits</td><td>8.966</td><td>0.1</td><td>34</td><td>5997.359</td><td>0.016</td><td>-3.24</td><td>0.826</td><td>-0.159</td><td>9941.646</td><td>1.459</td><td>3.143</td><td>3.099</td><td>3.656</td><td>-3.529</td><td>363.07</td><td>NEa1_2.12813</td><td>NEa1_2.12813</td><td></td><td>2453074.50216269</td></tr>\n",
       "<tr><td>NEa1_2.13211</td><td>87.759171255</td><td>-62.271493333</td><td>271.4129943847656</td><td>-30.76300048828125</td><td>2.6762064</td><td>9.896666</td><td>20.086191</td><td>7.949641</td><td>16.89902</td><td>0.077</td><td>16.84778</td><td>0.021</td><td>14.62118</td><td>0.024</td><td>16.69</td><td>2.153</td><td>-0.054</td><td>0.15778</td><td>0.046</td><td>999999.0</td><td>-0.008</td><td>335.42828</td><td>323.10074</td><td>134.11433</td><td>3.7860317</td><td>4.843817</td><td>999999.0</td><td>1.0</td><td>23.57</td><td>NEa1_2.13211.fits</td><td>22.259</td><td>0.32</td><td>38</td><td>4021.705</td><td>0.52</td><td>-0.284</td><td>-0.069</td><td>-0.125</td><td>35.053</td><td>0.182</td><td>0.083</td><td>0.041</td><td>0.053</td><td>-4.724</td><td>335.43</td><td>NEa1_2.13211</td><td>NEa1_2.13211</td><td></td><td>2453074.50216233</td></tr>\n",
       "<tr><td>NEa1_2.13292</td><td>87.76675291500001</td><td>-62.132236389</td><td>271.2510070800781</td><td>-30.759000778198242</td><td>2.6872776</td><td>10.035493</td><td>19.859009</td><td>8.085292</td><td>17.257019</td><td>0.078</td><td>17.207779</td><td>0.023</td><td>15.37518</td><td>0.024</td><td>17.05</td><td>1.759</td><td>-0.053</td><td>0.15778</td><td>0.046</td><td>999999.0</td><td>0.147</td><td>321.5623</td><td>309.21225</td><td>120.20556</td><td>3.3900435</td><td>5.044258</td><td>999999.0</td><td>1.0</td><td>26.44</td><td>NEa1_2.13292.fits</td><td>29.382</td><td>0.38</td><td>39</td><td>4060.76</td><td>1.171</td><td>-0.905</td><td>0.135</td><td>0.14</td><td>35.198</td><td>0.133</td><td>0.058</td><td>0.053</td><td>0.034</td><td>-5.63</td><td>321.56</td><td>NEa1_2.13292</td><td>NEa1_2.13292</td><td></td><td>2453074.50216469</td></tr>\n",
       "<tr><td>NEa1_2.1366</td><td>87.225823335</td><td>-62.107269722</td><td>271.2200012207031</td><td>-31.01099967956543</td><td>2.432956</td><td>10.074269</td><td>18.066202</td><td>8.049028</td><td>17.63013</td><td>0.078</td><td>17.63007</td><td>0.024</td><td>15.99967</td><td>0.025</td><td>17.462</td><td>1.552</td><td>-0.003</td><td>0.16807</td><td>0.049</td><td>999999.0</td><td>-0.069</td><td>-44944.36</td><td>-44956.71</td><td>-45145.223</td><td>17.162878</td><td>9.761366</td><td>999999.0</td><td>1.0</td><td>4.42</td><td>NEa1_2.1366.fits</td><td>6.54</td><td>0.14</td><td>30</td><td>4304.964</td><td>4.4</td><td>-4.974</td><td>-0.236</td><td>0.231</td><td>856.219</td><td>12.296</td><td>5.078</td><td>5.554</td><td>49.524</td><td>-2.746</td><td>672.76</td><td>NEa1_2.1366</td><td>NEa1_2.1366</td><td></td><td>2453074.50213999</td></tr>\n",
       "<tr><td>NEa1_2.14251</td><td>87.80670042</td><td>-62.232861389</td><td>271.3680114746094</td><td>-30.740999221801758</td><td>2.7004824</td><td>9.934171</td><td>20.169641</td><td>7.992632</td><td>16.89102</td><td>0.077</td><td>16.85978</td><td>0.021</td><td>14.58718</td><td>0.024</td><td>16.702</td><td>2.198</td><td>-0.035</td><td>0.15778</td><td>0.046</td><td>999999.0</td><td>0.028</td><td>339.73578</td><td>327.40186</td><td>138.36867</td><td>3.3863413</td><td>4.903474</td><td>999999.0</td><td>1.0</td><td>26.47</td><td>NEa1_2.14251.fits</td><td>28.163</td><td>0.31</td><td>39</td><td>4003.572</td><td>1.31</td><td>-0.742</td><td>0.213</td><td>0.252</td><td>31.346</td><td>0.116</td><td>0.042</td><td>0.047</td><td>0.022</td><td>-5.194</td><td>339.74</td><td>NEa1_2.14251</td><td>NEa1_2.14251</td><td></td><td>2453074.50216508</td></tr>\n",
       "<tr><td>...</td><td>...</td><td>...</td><td>...</td><td>...</td><td>...</td><td>...</td><td>...</td><td>...</td><td>...</td><td>...</td><td>...</td><td>...</td><td>...</td><td>...</td><td>...</td><td>...</td><td>...</td><td>...</td><td>...</td><td>...</td><td>...</td><td>...</td><td>...</td><td>...</td><td>...</td><td>...</td><td>...</td><td>...</td><td>...</td><td>...</td><td>...</td><td>...</td><td>...</td><td>...</td><td>...</td><td>...</td><td>...</td><td>...</td><td>...</td><td>...</td><td>...</td><td>...</td><td>...</td><td>...</td><td>...</td><td>...</td><td>...</td><td>...</td><td>...</td></tr>\n",
       "<tr><td>S4.0067</td><td>281.78521728515625</td><td>-75.5025</td><td>319.09152307659974</td><td>-25.930895559207134</td><td>-4.023962</td><td>-31.538485</td><td>0.0</td><td>0.0</td><td>0.0</td><td>0.0</td><td>0.0</td><td>0.0</td><td>0.0</td><td>0.0</td><td>0.0</td><td>0.0</td><td>0.0</td><td>0.0</td><td>0.0</td><td>0.0</td><td>0.0</td><td>999999.0</td><td>0.0</td><td>0.0</td><td>0.0</td><td>0.0</td><td>0.0</td><td>0.0</td><td>0.0</td><td>S4.0067.fits</td><td>6.005</td><td>0.0</td><td>0</td><td>3854.941</td><td>2.267</td><td>-1.569</td><td>-1.0</td><td>0.011</td><td>104.698</td><td>0.533</td><td>1.02</td><td>0.002</td><td>0.439</td><td>-2.413</td><td>-1426.4</td><td>S4C.11277</td><td>S4.0067</td><td></td><td>2453115.82322995</td></tr>\n",
       "<tr><td>S4.0071</td><td>282.7799072265625</td><td>-75.693222222222</td><td>318.91861545923666</td><td>-26.20192306616188</td><td>-4.2191043</td><td>-31.274212</td><td>0.0</td><td>0.0</td><td>0.0</td><td>0.0</td><td>0.0</td><td>0.0</td><td>0.0</td><td>0.0</td><td>0.0</td><td>0.0</td><td>0.0</td><td>0.0</td><td>0.0</td><td>0.0</td><td>0.0</td><td>999999.0</td><td>0.0</td><td>0.0</td><td>0.0</td><td>0.0</td><td>0.0</td><td>0.0</td><td>0.0</td><td>S4.0071.fits</td><td>9.58</td><td>0.0</td><td>0</td><td>3881.181</td><td>3.483</td><td>-4.957</td><td>-0.758</td><td>-0.01</td><td>711.843</td><td>8.284</td><td>2.064</td><td>4.571</td><td>12.473</td><td>-4.341</td><td>-1064.4</td><td>S4C.2063</td><td>S4.0071</td><td></td><td>2453115.82320228</td></tr>\n",
       "<tr><td>S4.0082</td><td>281.5896301269531</td><td>-75.82975</td><td>318.72367737858315</td><td>-25.930483401068102</td><td>-3.8426542</td><td>-31.246109</td><td>0.0</td><td>0.0</td><td>0.0</td><td>0.0</td><td>0.0</td><td>0.0</td><td>0.0</td><td>0.0</td><td>0.0</td><td>0.0</td><td>0.0</td><td>0.0</td><td>0.0</td><td>0.0</td><td>0.0</td><td>999999.0</td><td>0.0</td><td>0.0</td><td>0.0</td><td>0.0</td><td>0.0</td><td>0.0</td><td>0.0</td><td>S4.0082.fits</td><td>6.151</td><td>0.0</td><td>0</td><td>3500.453</td><td>4.997</td><td>-4.83</td><td>0.998</td><td>0.171</td><td>323.498</td><td>1.144</td><td>0.694</td><td>62.5</td><td>18.615</td><td>-2.302</td><td>-337.27</td><td>S4S.13295</td><td>S4.0082</td><td></td><td>2453115.82322717</td></tr>\n",
       "<tr><td>S4.0100</td><td>281.62921142578125</td><td>-75.925361111111</td><td>318.6200246978959</td><td>-25.953870981770258</td><td>-3.8162746</td><td>-31.152699</td><td>0.0</td><td>0.0</td><td>0.0</td><td>0.0</td><td>0.0</td><td>0.0</td><td>0.0</td><td>0.0</td><td>0.0</td><td>0.0</td><td>0.0</td><td>0.0</td><td>0.0</td><td>0.0</td><td>0.0</td><td>999999.0</td><td>0.0</td><td>0.0</td><td>0.0</td><td>0.0</td><td>0.0</td><td>0.0</td><td>0.0</td><td>S4.0100.fits</td><td>6.305</td><td>0.0</td><td>0</td><td>3516.577</td><td>4.822</td><td>-3.51</td><td>-0.81</td><td>0.181</td><td>118.226</td><td>0.474</td><td>0.654</td><td>0.267</td><td>3.294</td><td>-2.24</td><td>-317.1</td><td>S4S.12806</td><td>S4.0100</td><td></td><td>2453115.82322407</td></tr>\n",
       "<tr><td>S4.0101</td><td>282.47723388671875</td><td>-76.029222222222</td><td>318.53671901552667</td><td>-26.171605176262084</td><td>-4.000847</td><td>-30.985323</td><td>0.0</td><td>0.0</td><td>0.0</td><td>0.0</td><td>0.0</td><td>0.0</td><td>0.0</td><td>0.0</td><td>0.0</td><td>0.0</td><td>0.0</td><td>0.0</td><td>0.0</td><td>0.0</td><td>0.0</td><td>999999.0</td><td>0.0</td><td>0.0</td><td>0.0</td><td>0.0</td><td>0.0</td><td>0.0</td><td>0.0</td><td>S4.0101.fits</td><td>6.528</td><td>0.0</td><td>0</td><td>3817.045</td><td>4.951</td><td>-2.059</td><td>0.839</td><td>-0.136</td><td>68.936</td><td>0.367</td><td>0.253</td><td>1.179</td><td>2.287</td><td>-2.62</td><td>-186.62</td><td>S4S.4996</td><td>S4.0101</td><td></td><td>2453115.82320223</td></tr>\n",
       "<tr><td>S4.0107</td><td>282.83721923828125</td><td>-75.5025</td><td>319.13146442364643</td><td>-26.191792182129294</td><td>-4.3138013</td><td>-31.44753</td><td>0.0</td><td>0.0</td><td>0.0</td><td>0.0</td><td>0.0</td><td>0.0</td><td>0.0</td><td>0.0</td><td>0.0</td><td>0.0</td><td>0.0</td><td>0.0</td><td>0.0</td><td>0.0</td><td>0.0</td><td>999999.0</td><td>0.0</td><td>0.0</td><td>0.0</td><td>0.0</td><td>0.0</td><td>0.0</td><td>0.0</td><td>S4.0107.fits</td><td>5.63</td><td>0.0</td><td>0</td><td>4112.021</td><td>4.83</td><td>0.937</td><td>0.122</td><td>0.39</td><td>97.306</td><td>0.287</td><td>0.35</td><td>0.164</td><td>0.18</td><td>-2.213</td><td>431.27</td><td>S4C.1532</td><td>S4.0107</td><td></td><td>2453115.82320487</td></tr>\n",
       "<tr><td>S4.0108</td><td>282.0001525878906</td><td>-75.851138888889</td><td>318.71597920636157</td><td>-26.032925450869048</td><td>-3.9449306</td><td>-31.192331</td><td>0.0</td><td>0.0</td><td>0.0</td><td>0.0</td><td>0.0</td><td>0.0</td><td>0.0</td><td>0.0</td><td>0.0</td><td>0.0</td><td>0.0</td><td>0.0</td><td>0.0</td><td>0.0</td><td>0.0</td><td>999999.0</td><td>0.0</td><td>0.0</td><td>0.0</td><td>0.0</td><td>0.0</td><td>0.0</td><td>0.0</td><td>S4.0108.fits</td><td>9.832</td><td>0.0</td><td>0</td><td>3677.15</td><td>3.741</td><td>-4.988</td><td>-0.774</td><td>0.225</td><td>958.794</td><td>4.894</td><td>2.606</td><td>4.282</td><td>8.487</td><td>-3.488</td><td>354.58</td><td>S4S.9303</td><td>S4.0108</td><td></td><td>2453115.82321715</td></tr>\n",
       "<tr><td>S4.0116</td><td>281.6719970703125</td><td>-76.006083333333</td><td>318.53281915602327</td><td>-25.975703308801776</td><td>-3.7964268</td><td>-31.073105</td><td>0.0</td><td>0.0</td><td>0.0</td><td>0.0</td><td>0.0</td><td>0.0</td><td>0.0</td><td>0.0</td><td>0.0</td><td>0.0</td><td>0.0</td><td>0.0</td><td>0.0</td><td>0.0</td><td>0.0</td><td>999999.0</td><td>0.0</td><td>0.0</td><td>0.0</td><td>0.0</td><td>0.0</td><td>0.0</td><td>0.0</td><td>S4.0116.fits</td><td>7.422</td><td>0.0</td><td>0</td><td>4553.415</td><td>4.099</td><td>0.74</td><td>0.93</td><td>-0.207</td><td>64.133</td><td>0.319</td><td>0.296</td><td>0.459</td><td>0.497</td><td>-3.022</td><td>-129.96</td><td>S4S.12360</td><td>S4.0116</td><td></td><td>2453115.82322125</td></tr>\n",
       "<tr><td>S4.0134</td><td>282.8890075683594</td><td>-75.608972222222</td><td>319.0155762621905</td><td>-26.21809702006889</td><td>-4.2836404</td><td>-31.343412</td><td>0.0</td><td>0.0</td><td>0.0</td><td>0.0</td><td>0.0</td><td>0.0</td><td>0.0</td><td>0.0</td><td>0.0</td><td>0.0</td><td>0.0</td><td>0.0</td><td>0.0</td><td>0.0</td><td>0.0</td><td>999999.0</td><td>0.0</td><td>0.0</td><td>0.0</td><td>0.0</td><td>0.0</td><td>0.0</td><td>0.0</td><td>S4.0134.fits</td><td>6.187</td><td>0.0</td><td>0</td><td>3721.612</td><td>1.257</td><td>-1.734</td><td>-1.0</td><td>-0.301</td><td>61.137</td><td>0.329</td><td>0.779</td><td>-999.999</td><td>-999.999</td><td>-2.628</td><td>482.78</td><td>S4C.1086</td><td>S4.0134</td><td></td><td>2453115.82320145</td></tr>\n",
       "<tr><td>S4.0135</td><td>282.2435607910156</td><td>-75.992083333333</td><td>318.5694782369445</td><td>-26.110733298536505</td><td>-3.9539013</td><td>-31.039648</td><td>0.0</td><td>0.0</td><td>0.0</td><td>0.0</td><td>0.0</td><td>0.0</td><td>0.0</td><td>0.0</td><td>0.0</td><td>0.0</td><td>0.0</td><td>0.0</td><td>0.0</td><td>0.0</td><td>0.0</td><td>999999.0</td><td>0.0</td><td>0.0</td><td>0.0</td><td>0.0</td><td>0.0</td><td>0.0</td><td>0.0</td><td>S4.0135.fits</td><td>9.798</td><td>0.0</td><td>0</td><td>3543.575</td><td>3.817</td><td>-4.622</td><td>-0.972</td><td>0.886</td><td>321.787</td><td>0.624</td><td>1.047</td><td>1.534</td><td>0.342</td><td>-3.59</td><td>688.06</td><td>S4S.7107</td><td>S4.0135</td><td></td><td>2453115.82320842</td></tr>\n",
       "</table>"
      ],
      "text/plain": [
       "<Table length=4161>\n",
       "         ID                 RA         ...  FIELD         HJD       \n",
       "       str19             float64       ...   str8       float64     \n",
       "------------------- ------------------ ... -------- ----------------\n",
       "NEa1_2.10479               87.62960667 ...          2453074.50215658\n",
       "NEa1_2.1102               87.209736255 ...          2453074.50213802\n",
       "NEa1_2.11414               87.67963959 ...          2453074.50216071\n",
       "NEa1_2.12134              87.711117495 ...          2453074.50216099\n",
       "NEa1_2.12568               87.73164417 ...          2453074.50216119\n",
       "NEa1_2.12813              87.743740005 ...          2453074.50216269\n",
       "NEa1_2.13211              87.759171255 ...          2453074.50216233\n",
       "NEa1_2.13292         87.76675291500001 ...          2453074.50216469\n",
       "NEa1_2.1366               87.225823335 ...          2453074.50213999\n",
       "NEa1_2.14251               87.80670042 ...          2453074.50216508\n",
       "                ...                ... ...      ...              ...\n",
       "S4.0067             281.78521728515625 ...          2453115.82322995\n",
       "S4.0071              282.7799072265625 ...          2453115.82320228\n",
       "S4.0082              281.5896301269531 ...          2453115.82322717\n",
       "S4.0100             281.62921142578125 ...          2453115.82322407\n",
       "S4.0101             282.47723388671875 ...          2453115.82320223\n",
       "S4.0107             282.83721923828125 ...          2453115.82320487\n",
       "S4.0108              282.0001525878906 ...          2453115.82321715\n",
       "S4.0116              281.6719970703125 ...          2453115.82322125\n",
       "S4.0134              282.8890075683594 ...          2453115.82320145\n",
       "S4.0135              282.2435607910156 ...          2453115.82320842"
      ]
     },
     "execution_count": 65,
     "metadata": {},
     "output_type": "execute_result"
    }
   ],
   "source": [
    "maps_table"
   ]
  },
  {
   "cell_type": "code",
   "execution_count": 71,
   "metadata": {},
   "outputs": [],
   "source": [
    "ID = maps_table[\"ID\"]\n",
    "RA = maps_table[\"RA\"]\n",
    "DEC = maps_table[\"DEC\"]"
   ]
  },
  {
   "cell_type": "code",
   "execution_count": 74,
   "metadata": {},
   "outputs": [],
   "source": [
    "data = Table([ID, RA, DEC], names=['ID', 'RA', 'DEC'])\n",
    "ascii.write(data, 'aw_maps_data.dat')"
   ]
  }
 ],
 "metadata": {
  "kernelspec": {
   "display_name": "Python 2",
   "language": "python",
   "name": "python2"
  },
  "language_info": {
   "codemirror_mode": {
    "name": "ipython",
    "version": 2
   },
   "file_extension": ".py",
   "mimetype": "text/x-python",
   "name": "python",
   "nbconvert_exporter": "python",
   "pygments_lexer": "ipython2",
   "version": "2.7.15"
  }
 },
 "nbformat": 4,
 "nbformat_minor": 2
}
